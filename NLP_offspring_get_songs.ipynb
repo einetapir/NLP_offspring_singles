{
  "nbformat": 4,
  "nbformat_minor": 0,
  "metadata": {
    "colab": {
      "name": "NLP_offspring_get_songs.ipynb",
      "provenance": [],
      "collapsed_sections": [],
      "toc_visible": true,
      "mount_file_id": "1JRibvzYrlDntI1TfjvqEgRsoMP-XOI6N",
      "authorship_tag": "ABX9TyMd8+Y/s4OOuSBXdGoV4ZhF"
    },
    "kernelspec": {
      "name": "python3",
      "display_name": "Python 3"
    },
    "language_info": {
      "name": "python"
    }
  },
  "cells": [
    {
      "cell_type": "code",
      "metadata": {
        "id": "GrxVgVFu8Avb"
      },
      "source": [
        "import re\n",
        "import requests\n",
        "from bs4 import BeautifulSoup"
      ],
      "execution_count": 22,
      "outputs": []
    },
    {
      "cell_type": "code",
      "metadata": {
        "colab": {
          "base_uri": "https://localhost:8080/"
        },
        "id": "vEtgWzW7D7n8",
        "outputId": "9e7a0310-5a7c-4eae-8ff0-d2ad0a73f5fe"
      },
      "source": [
        "#request for every singles\n",
        "url_offspring = \"https://fr.wikipedia.org/wiki/The_Offspring\"\n",
        "\n",
        "response = requests.get(url_offspring)\n",
        "content = response.content\n",
        "\n",
        "soup = BeautifulSoup(content, \"html.parser\")\n",
        "\n",
        "singles = soup.find_all(style=\"float:left;\")\n",
        "singles = singles[0].find_all(\"ul\")\n",
        "singles = singles[1].find_all(\"li\")\n",
        "singles = [s.text for s in singles]\n",
        "singles = [re.sub(\"\\s*-\", \"\", s) for s in singles]\n",
        "\n",
        "list_song = [s[5:] for s in singles]\n",
        "list_song"
      ],
      "execution_count": 23,
      "outputs": [
        {
          "output_type": "execute_result",
          "data": {
            "text/plain": [
              "[\"I'll Be Waiting/Blackball\",\n",
              " \"Come Out and Play (Keep 'Em Separated)\",\n",
              " 'Self Esteem',\n",
              " 'Gotta Get Away',\n",
              " 'Smash It Up',\n",
              " 'All I Want',\n",
              " 'Gone Away',\n",
              " 'I Choose',\n",
              " 'Pretty Fly (For a White Guy)',\n",
              " \"Why Don't You Get a Job?\",\n",
              " \"The Kids Aren't Alright\",\n",
              " \"She's Got Issues\",\n",
              " 'Original Prankster',\n",
              " 'Want You Bad',\n",
              " 'Million Miles Away',\n",
              " 'Defy You',\n",
              " 'Hit That',\n",
              " \"(Can't Get My) Head Around You\",\n",
              " 'Spare Me the Details (single en  Australie)',\n",
              " \"Can't Repeat\",\n",
              " 'Hammerhead',\n",
              " \"You're Gonna Go Far, Kid\",\n",
              " 'Kristy, Are You Doing Okay?',\n",
              " 'Stuff Is Messed Up',\n",
              " 'Rise and Fall, Rage and Grace',\n",
              " 'Days Go By',\n",
              " \"Crusing California (Bump'in my trunks)\",\n",
              " 'Coming For You',\n",
              " 'Let the Bad Times Roll']"
            ]
          },
          "metadata": {
            "tags": []
          },
          "execution_count": 23
        }
      ]
    },
    {
      "cell_type": "code",
      "metadata": {
        "colab": {
          "base_uri": "https://localhost:8080/"
        },
        "id": "5KoVMgYBlQ54",
        "outputId": "9f4581dc-fd93-4c5b-adc9-cad997841676"
      },
      "source": [
        "list_song = [re.sub(\"\\(.*\\)\", \"\", s) for s in liste_song]\n",
        "list_song"
      ],
      "execution_count": 24,
      "outputs": [
        {
          "output_type": "execute_result",
          "data": {
            "text/plain": [
              "[\"I'll Be Waiting/Blackball\",\n",
              " 'Come Out and Play ',\n",
              " 'Self Esteem',\n",
              " 'Gotta Get Away',\n",
              " 'Smash It Up',\n",
              " 'All I Want',\n",
              " 'Gone Away',\n",
              " 'I Choose',\n",
              " 'Pretty Fly ',\n",
              " \"Why Don't You Get a Job?\",\n",
              " \"The Kids Aren't Alright\",\n",
              " \"She's Got Issues\",\n",
              " 'Original Prankster',\n",
              " 'Want You Bad',\n",
              " 'Million Miles Away',\n",
              " 'Defy You',\n",
              " 'Hit That',\n",
              " ' Head Around You',\n",
              " 'Spare Me the Details ',\n",
              " \"Can't Repeat\",\n",
              " 'Hammerhead',\n",
              " \"You're Gonna Go Far, Kid\",\n",
              " 'Kristy, Are You Doing Okay?',\n",
              " 'Stuff Is Messed Up',\n",
              " 'Rise and Fall, Rage and Grace',\n",
              " 'Days Go By',\n",
              " 'Crusing California ',\n",
              " 'Coming For You',\n",
              " 'Let the Bad Times Roll']"
            ]
          },
          "metadata": {
            "tags": []
          },
          "execution_count": 24
        }
      ]
    },
    {
      "cell_type": "code",
      "metadata": {
        "id": "RuwUBJDqUrJn"
      },
      "source": [
        "path = '/content/drive/MyDrive/Projets_Perso/NLP_offspring/'\n",
        "with open (path + 'token.txt', 'r') as f:\n",
        "  token = f.read()"
      ],
      "execution_count": 25,
      "outputs": []
    },
    {
      "cell_type": "code",
      "metadata": {
        "colab": {
          "base_uri": "https://localhost:8080/"
        },
        "id": "N6H-8GjSjLCu",
        "outputId": "b9fc28c6-086f-4d00-c704-27617f55685e"
      },
      "source": [
        "def get_url_songs(list_song, token):\n",
        "  headers = {'Authorization': 'Bearer ' + token}\n",
        "  search_url = \"http://api.genius.com/search\"\n",
        "  rough_list_url_lyrics = []\n",
        "\n",
        "  for song in list_song:\n",
        "    params = {'q': song}\n",
        "    response = requests.get(search_url, params=params, headers=headers)\n",
        "    json_song = response.json()\n",
        "\n",
        "    for i in json_song[\"response\"][\"hits\"]:\n",
        "      if i[\"result\"][\"primary_artist\"][\"name\"] == 'The Offspring':\n",
        "        song_info = i\n",
        "        rough_list_url_lyrics.append(song_info['result']['url'])\n",
        "      else:\n",
        "        pass\n",
        "  \n",
        "  return rough_list_url_lyrics\n",
        "\n",
        "rough_list_url_lyrics = get_url_songs(list_song, token)\n",
        "rough_list_url_lyrics"
      ],
      "execution_count": 26,
      "outputs": [
        {
          "output_type": "execute_result",
          "data": {
            "text/plain": [
              "['https://genius.com/The-offspring-come-out-and-play-keep-em-separated-lyrics',\n",
              " 'https://genius.com/The-offspring-come-out-and-play-lyrics',\n",
              " 'https://genius.com/The-offspring-self-esteem-lyrics',\n",
              " 'https://genius.com/The-offspring-gotta-get-away-lyrics',\n",
              " 'https://genius.com/The-offspring-smash-it-up-lyrics',\n",
              " 'https://genius.com/The-offspring-gone-away-lyrics',\n",
              " 'https://genius.com/The-offspring-pretty-fly-for-a-white-guy-lyrics',\n",
              " 'https://genius.com/The-offspring-why-dont-you-get-a-job-lyrics',\n",
              " 'https://genius.com/The-offspring-why-dont-you-get-a-job-baka-boyz-remix-lyrics',\n",
              " 'https://genius.com/The-offspring-the-kids-arent-alright-lyrics',\n",
              " 'https://genius.com/The-offspring-shes-got-issues-lyrics',\n",
              " 'https://genius.com/The-offspring-original-prankster-lyrics',\n",
              " 'https://genius.com/The-offspring-want-you-bad-lyrics',\n",
              " 'https://genius.com/The-offspring-million-miles-away-lyrics',\n",
              " 'https://genius.com/The-offspring-defy-you-lyrics',\n",
              " 'https://genius.com/The-offspring-hit-that-lyrics',\n",
              " 'https://genius.com/The-offspring-cant-get-my-head-around-you-lyrics',\n",
              " 'https://genius.com/The-offspring-spare-me-the-details-lyrics',\n",
              " 'https://genius.com/The-offspring-cant-repeat-lyrics',\n",
              " 'https://genius.com/The-offspring-hammerhead-lyrics',\n",
              " 'https://genius.com/The-offspring-youre-gonna-go-far-kid-lyrics',\n",
              " 'https://genius.com/The-offspring-kristy-are-you-doing-okay-lyrics',\n",
              " 'https://genius.com/The-offspring-stuff-is-messed-up-lyrics',\n",
              " 'https://genius.com/The-offspring-days-go-by-lyrics',\n",
              " 'https://genius.com/The-offspring-cruising-california-bumpin-in-my-trunk-lyrics',\n",
              " 'https://genius.com/The-offspring-coming-for-you-lyrics',\n",
              " 'https://genius.com/The-offspring-let-the-bad-times-roll-lyrics']"
            ]
          },
          "metadata": {
            "tags": []
          },
          "execution_count": 26
        }
      ]
    },
    {
      "cell_type": "code",
      "metadata": {
        "colab": {
          "base_uri": "https://localhost:8080/"
        },
        "id": "H35_8CuDlVGS",
        "outputId": "481f9f65-8b48-46ff-b85c-1ffa0b035c38"
      },
      "source": [
        "list_url_lyrics = rough_list_url_lyrics.copy()\n",
        "del list_url_lyrics[1]\n",
        "del list_url_lyrics[7]\n",
        "\n",
        "list_url_lyrics"
      ],
      "execution_count": 27,
      "outputs": [
        {
          "output_type": "execute_result",
          "data": {
            "text/plain": [
              "['https://genius.com/The-offspring-come-out-and-play-keep-em-separated-lyrics',\n",
              " 'https://genius.com/The-offspring-self-esteem-lyrics',\n",
              " 'https://genius.com/The-offspring-gotta-get-away-lyrics',\n",
              " 'https://genius.com/The-offspring-smash-it-up-lyrics',\n",
              " 'https://genius.com/The-offspring-gone-away-lyrics',\n",
              " 'https://genius.com/The-offspring-pretty-fly-for-a-white-guy-lyrics',\n",
              " 'https://genius.com/The-offspring-why-dont-you-get-a-job-lyrics',\n",
              " 'https://genius.com/The-offspring-the-kids-arent-alright-lyrics',\n",
              " 'https://genius.com/The-offspring-shes-got-issues-lyrics',\n",
              " 'https://genius.com/The-offspring-original-prankster-lyrics',\n",
              " 'https://genius.com/The-offspring-want-you-bad-lyrics',\n",
              " 'https://genius.com/The-offspring-million-miles-away-lyrics',\n",
              " 'https://genius.com/The-offspring-defy-you-lyrics',\n",
              " 'https://genius.com/The-offspring-hit-that-lyrics',\n",
              " 'https://genius.com/The-offspring-cant-get-my-head-around-you-lyrics',\n",
              " 'https://genius.com/The-offspring-spare-me-the-details-lyrics',\n",
              " 'https://genius.com/The-offspring-cant-repeat-lyrics',\n",
              " 'https://genius.com/The-offspring-hammerhead-lyrics',\n",
              " 'https://genius.com/The-offspring-youre-gonna-go-far-kid-lyrics',\n",
              " 'https://genius.com/The-offspring-kristy-are-you-doing-okay-lyrics',\n",
              " 'https://genius.com/The-offspring-stuff-is-messed-up-lyrics',\n",
              " 'https://genius.com/The-offspring-days-go-by-lyrics',\n",
              " 'https://genius.com/The-offspring-cruising-california-bumpin-in-my-trunk-lyrics',\n",
              " 'https://genius.com/The-offspring-coming-for-you-lyrics',\n",
              " 'https://genius.com/The-offspring-let-the-bad-times-roll-lyrics']"
            ]
          },
          "metadata": {
            "tags": []
          },
          "execution_count": 27
        }
      ]
    },
    {
      "cell_type": "code",
      "metadata": {
        "colab": {
          "base_uri": "https://localhost:8080/"
        },
        "id": "QpWGO9TTvf1x",
        "outputId": "2f9dd278-c79a-47c4-ba30-cbf894ce3ebb"
      },
      "source": [
        "len(list_url_lyrics)"
      ],
      "execution_count": 28,
      "outputs": [
        {
          "output_type": "execute_result",
          "data": {
            "text/plain": [
              "25"
            ]
          },
          "metadata": {
            "tags": []
          },
          "execution_count": 28
        }
      ]
    },
    {
      "cell_type": "code",
      "metadata": {
        "id": "kamxlWictsLS"
      },
      "source": [
        "with open(path + 'file_url_lyrics.txt', 'w') as f:\n",
        "  for url in list_url_lyrics:\n",
        "    f.write(url + '\\n')"
      ],
      "execution_count": 29,
      "outputs": []
    },
    {
      "cell_type": "markdown",
      "metadata": {
        "id": "0Ci9cIbMuluo"
      },
      "source": [
        "###END PASSER à MAIN"
      ]
    }
  ]
}